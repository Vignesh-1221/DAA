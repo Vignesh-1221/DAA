{
 "cells": [
  {
   "cell_type": "code",
   "execution_count": 1,
   "id": "66299d43",
   "metadata": {},
   "outputs": [
    {
     "name": "stdout",
     "output_type": "stream",
     "text": [
      "17\n",
      "5\n",
      "2\n"
     ]
    }
   ],
   "source": [
    "a = [16, 17, 4, 3, 5, 2]\n",
    "b = len(a)\n",
    "c = b-2\n",
    "for i in range(c):\n",
    "    if a[i] < a[i+1]:\n",
    "        print(a[i+1])\n",
    "print(a[-1])"
   ]
  },
  {
   "cell_type": "code",
   "execution_count": 2,
   "id": "a6f01c42",
   "metadata": {},
   "outputs": [
    {
     "name": "stdout",
     "output_type": "stream",
     "text": [
      "Leader numbers: [17, 5, 2]\n"
     ]
    }
   ],
   "source": [
    "a = [16, 17, 4, 3, 5, 2]\n",
    "leaders = []\n",
    "\n",
    "for i in range(len(a)):\n",
    "    if a[i] == max(a[i:]):\n",
    "        leaders.append(a[i])\n",
    "\n",
    "print(\"Leader numbers:\", leaders)\n"
   ]
  },
  {
   "cell_type": "code",
   "execution_count": 3,
   "id": "424a04ef",
   "metadata": {},
   "outputs": [
    {
     "name": "stdout",
     "output_type": "stream",
     "text": [
      "[3, 7, 4, 8, 2, 6, 1]\n"
     ]
    }
   ],
   "source": [
    "\n",
    "def zigzag(arr, n):\n",
    "    flag = True\n",
    "    for i in range (n - 1):\n",
    "        if flag is True:\n",
    "            if arr[i] > arr[i + 1]:\n",
    "                arr[i], arr [i+1] = arr[i + 1], arr[i]\n",
    "                \n",
    "        else:\n",
    "            if arr[i] < arr[i + 1]:\n",
    "                arr[i], arr[i + 1] = arr[i +1], arr[i]\n",
    "                \n",
    "        flag = bool(1 - flag)\n",
    "    print(arr)  \n",
    "\n",
    "arr = [4, 3, 7, 8, 6, 2, 1]\n",
    "n = len(arr)\n",
    "zigzag(arr, n)"
   ]
  },
  {
   "cell_type": "code",
   "execution_count": 4,
   "id": "d4b6caaa",
   "metadata": {},
   "outputs": [
    {
     "name": "stdout",
     "output_type": "stream",
     "text": [
      "Zigzag ordered array: [3, 7, 4, 8, 2, 6, 1]\n"
     ]
    }
   ],
   "source": [
    "a = [4, 3, 7, 8, 6, 2, 1]\n",
    "\n",
    "for i in range(len(a)-1):\n",
    "    if (i % 2 == 0) == (a[i] > a[i+1]):\n",
    "        a[i], a[i+1] = a[i+1], a[i]\n",
    "\n",
    "print(\"Zigzag ordered array:\", a)\n"
   ]
  },
  {
   "cell_type": "code",
   "execution_count": 5,
   "id": "307980e0",
   "metadata": {},
   "outputs": [
    {
     "name": "stdout",
     "output_type": "stream",
     "text": [
      "[3, 7, 8, 6, 2, 1, 4]\n"
     ]
    }
   ],
   "source": [
    "arr = [4,3,7,8,6,2,1]\n",
    "b = len(a)\n",
    "for i in range(b-1):\n",
    "    if (i % 2 == 0) == arr[i] > arr[i + 1]:\n",
    "        arr[i], arr [i+1] = arr[i + 1], arr[i]\n",
    "    else:\n",
    "        arr[i], arr[i + 1] = arr[i +1], arr[i]\n",
    "print(arr)"
   ]
  },
  {
   "cell_type": "code",
   "execution_count": 6,
   "id": "8748ce78",
   "metadata": {},
   "outputs": [
    {
     "name": "stdout",
     "output_type": "stream",
     "text": [
      "[1, 2, 3, 4, 6, 7, 8]\n",
      "2 3\n",
      "3 4\n",
      "4 6\n",
      "6 7\n",
      "7 8\n",
      "1\n"
     ]
    }
   ],
   "source": [
    "a = [4,3,7,8,6,2,1]\n",
    "c = a\n",
    "b = a.sort()\n",
    "print(a)\n",
    "for i in range(1,len(a)-1):\n",
    "    print(c[i],c[i+1])\n",
    "    i+=1\n",
    "print(c[0])  \n"
   ]
  },
  {
   "cell_type": "code",
   "execution_count": 7,
   "id": "d690c431",
   "metadata": {},
   "outputs": [
    {
     "name": "stdout",
     "output_type": "stream",
     "text": [
      "The missing number is: 5\n"
     ]
    }
   ],
   "source": [
    "def find_missing_number(nums):\n",
    "    n = len(nums) + 1  \n",
    "    expected_sum = n * (n + 1) // 2 \n",
    "\n",
    "    actual_sum = sum(nums)\n",
    "\n",
    "    missing_number = expected_sum - actual_sum \n",
    "    return missing_number\n",
    "numbers = [1, 2, 4, 3, 6, 7, 8]  \n",
    "missing = find_missing_number(numbers)\n",
    "print(\"The missing number is:\", missing)"
   ]
  },
  {
   "cell_type": "code",
   "execution_count": 8,
   "id": "25074700",
   "metadata": {},
   "outputs": [
    {
     "name": "stdout",
     "output_type": "stream",
     "text": [
      "[1, 2, 3, 4, 6, 7, 8]\n",
      "2\n",
      "3\n",
      "4\n",
      "7\n"
     ]
    }
   ],
   "source": [
    "a = [1, 2, 4, 3, 6, 7, 8]\n",
    "b = a.sort()\n",
    "print(a)\n",
    "count = 0\n",
    "n = len(a)-2\n",
    "for i in range(n):\n",
    "    if a[i+1]-a[i]==1:\n",
    "        count+=0\n",
    "        if count == 1:\n",
    "            break\n",
    "        else:\n",
    "            print(a[i]+1)\n"
   ]
  },
  {
   "cell_type": "code",
   "execution_count": 9,
   "id": "35fd4616",
   "metadata": {},
   "outputs": [
    {
     "name": "stdout",
     "output_type": "stream",
     "text": [
      "Three numbers that sum to 9: [1, 3, 5]\n"
     ]
    }
   ],
   "source": [
    "def find_three_numbers(arr, target_sum):\n",
    "    n = len(arr)\n",
    "    arr.sort()\n",
    "    for i in range(n - 2):\n",
    "        left, right = i + 1, n - 1\n",
    "        while left < right:\n",
    "            current_sum = arr[i] + arr[left] + arr[right]\n",
    "            if current_sum == target_sum:\n",
    "                return [arr[i], arr[left], arr[right]]\n",
    "            elif current_sum < target_sum:\n",
    "                left += 1\n",
    "            else:\n",
    "                right -= 1\n",
    "    return []\n",
    "arr = [1, 2, 3, 4, 5]\n",
    "target_sum = 9\n",
    "\n",
    "result = find_three_numbers(arr, target_sum)\n",
    "if result:\n",
    "    print(\"Three numbers that sum to 9:\", result)\n",
    "else:\n",
    "    print(\"No such triplet found.\")"
   ]
  },
  {
   "cell_type": "code",
   "execution_count": 10,
   "id": "ffcebe75",
   "metadata": {},
   "outputs": [
    {
     "name": "stdout",
     "output_type": "stream",
     "text": [
      "1 3 5\n",
      "2 3 4\n"
     ]
    }
   ],
   "source": [
    "#sum of three numbers \n",
    "a = [1,2,3,4,5]\n",
    "l = len(a)\n",
    "for i in range(l):\n",
    "    for j in range(i+1,l):\n",
    "        for k in range(j+1,l):\n",
    "            if(a[i]+a[j]+a[k]==9):\n",
    "                print(a[i], a[j], a[k])          \n"
   ]
  },
  {
   "cell_type": "code",
   "execution_count": 11,
   "id": "925a97e3",
   "metadata": {},
   "outputs": [
    {
     "name": "stdout",
     "output_type": "stream",
     "text": [
      "1 3 5\n",
      "2 4 3\n"
     ]
    }
   ],
   "source": [
    "\n",
    "#sum of three numbers\n",
    "a =[1,2,3,4,5]\n",
    "l = len(a)\n",
    "for i in range(l-2):\n",
    "    for j in range(i+1,l):\n",
    "         if(a[i]+a[i+2]+a[j]==9):\n",
    "                print(a[i],a[i+2],a[j])\n"
   ]
  },
  {
   "cell_type": "code",
   "execution_count": 12,
   "id": "64d1056c",
   "metadata": {},
   "outputs": [
    {
     "name": "stdout",
     "output_type": "stream",
     "text": [
      "12 3 9\n"
     ]
    }
   ],
   "source": [
    "#sum of three numbers\n",
    "a =[12,3,4,1,6,9]\n",
    "l = len(a)\n",
    "for i in range(l-2):\n",
    "    for j in range(i+1,l):\n",
    "         for k in range(j+1,l):\n",
    "            if(a[i]+a[j]+a[k]==24):\n",
    "                print(a[i], a[j], a[k])          \n"
   ]
  },
  {
   "cell_type": "code",
   "execution_count": 13,
   "id": "2c44d409",
   "metadata": {},
   "outputs": [
    {
     "name": "stdout",
     "output_type": "stream",
     "text": [
      "000111222"
     ]
    }
   ],
   "source": [
    "\n",
    "a=[0,0,1,2,0,1,2,2,1]\n",
    "l = len(a)\n",
    "for i in range(l):\n",
    "    if(a[i]==0):\n",
    "        print(a[i],end=\"\")\n",
    "for i in range(l):\n",
    "    if(a[i]==1):\n",
    "        print(a[i],end=\"\")\n",
    "for i in range(l):\n",
    "    if(a[i]==2):\n",
    "        print(a[i],end=\"\")"
   ]
  },
  {
   "cell_type": "code",
   "execution_count": 14,
   "id": "88c03147",
   "metadata": {},
   "outputs": [
    {
     "name": "stdout",
     "output_type": "stream",
     "text": [
      "[[ 1  2  3  4]\n",
      " [ 5  6  7  8]\n",
      " [ 9 10 11 12]\n",
      " [13 14 15 16]]\n",
      "1\n",
      "2\n",
      "3\n",
      "4\n",
      "8\n",
      "12\n",
      "16\n",
      "13\n",
      "14\n",
      "15\n",
      "5\n",
      "9\n",
      "6\n",
      "7\n",
      "10\n",
      "11\n"
     ]
    }
   ],
   "source": [
    "#print spiral matrix\n",
    "import numpy as np\n",
    "x = np.arange(1, 17).reshape(4, 4)\n",
    "x\n",
    "print(x)\n",
    "for i in range(4):\n",
    "    for j in range(4):\n",
    "        if (i ==0 and j <3 ):\n",
    "            print(x[i][j])\n",
    "for i in range(4):\n",
    "    for j in range(4):\n",
    "        if (i<3 and j==3):\n",
    "            print(x[i][j])\n",
    "for i in range(4):\n",
    "    for j in range(4):\n",
    "        if (i==3):\n",
    "            j=j-1\n",
    "            print(x[i][j])\n",
    "for i in range(4):\n",
    "    for j in range(4):\n",
    "        if((i==2 or i ==1) and (j==0)):\n",
    "            print(x[i][j])\n",
    "for i in range(4):\n",
    "    for j in range(4):\n",
    "        if(i ==1 and 0<j<3):\n",
    "            print(x[i][j])\n",
    "for i in range(4):\n",
    "    for j in range(4):\n",
    "        if(i==2 and 0<j<3):\n",
    "            print(x[i][j])\n"
   ]
  },
  {
   "cell_type": "code",
   "execution_count": 15,
   "id": "f419b188",
   "metadata": {},
   "outputs": [],
   "source": [
    "# MERGE SORT\n",
    "a=[6,4,2,1,9,8,3,5]\n",
    "i =[]\n",
    "b = len(a)\n",
    "c = (b//2)-1\n",
    "d = b-c\n",
    "for i in range(c):\n",
    "    e = [c/2]\n",
    "    if e==2:\n",
    "        if a[1]>a[0]:\n",
    "            i.append(a[1])\n",
    "        else:\n",
    "            i.append(a[0],a[1])  "
   ]
  },
  {
   "cell_type": "code",
   "execution_count": 16,
   "id": "041e0940",
   "metadata": {},
   "outputs": [
    {
     "name": "stdout",
     "output_type": "stream",
     "text": [
      "Sorted array: [1, 2, 3, 4, 5, 6, 8, 9]\n"
     ]
    }
   ],
   "source": [
    "def merge_sort(arr):\n",
    "    if len(arr) <= 1:\n",
    "        return arr\n",
    "\n",
    "    mid = len(arr) // 2\n",
    "    left_half = arr[:mid]\n",
    "    right_half = arr[mid:]\n",
    "\n",
    "    left_half = merge_sort(left_half)\n",
    "    right_half = merge_sort(right_half)\n",
    "\n",
    "    return merge(left_half, right_half)\n",
    "\n",
    "def merge(left, right):\n",
    "    result = []\n",
    "    i = j = 0\n",
    "\n",
    "    while i < len(left) and j < len(right):\n",
    "        if left[i] < right[j]:\n",
    "            result.append(left[i])\n",
    "            i += 1\n",
    "        else:\n",
    "            result.append(right[j])\n",
    "            j += 1\n",
    "\n",
    "    result.extend(left[i:])\n",
    "    result.extend(right[j:])\n",
    "    return result\n",
    "\n",
    "# Example usage:\n",
    "my_list = [6,4,2,1,9,8,3,5]\n",
    "sorted_list = merge_sort(my_list)\n",
    "print(\"Sorted array:\", sorted_list)\n"
   ]
  },
  {
   "cell_type": "code",
   "execution_count": 17,
   "id": "9797a510",
   "metadata": {},
   "outputs": [
    {
     "name": "stdout",
     "output_type": "stream",
     "text": [
      "[1, 2, 3, 4, 5, 6, 8, 9]\n"
     ]
    }
   ],
   "source": [
    "def mergeSort(arr):\n",
    "    if len(arr) > 1:\n",
    "        mid = len(arr)//2\n",
    "        sub_array1 = arr[:mid]\n",
    "        sub_array2 = arr[mid:]\n",
    "        mergeSort(sub_array1)\n",
    "        mergeSort(sub_array2)\n",
    "        i = j = k = 0\n",
    "        while i < len(sub_array1) and j < len(sub_array2):\n",
    "            if sub_array1[i] < sub_array2[j]:\n",
    "                arr[k] = sub_array1[i]\n",
    "                i += 1\n",
    "            else:\n",
    "                arr[k] = sub_array2[j]\n",
    "                j += 1\n",
    "            k += 1\n",
    "        while i < len(sub_array1):\n",
    "            arr[k] = sub_array1[i]\n",
    "            i += 1\n",
    "            k += 1\n",
    "        while j < len(sub_array2):\n",
    "            arr[k] = sub_array2[j]\n",
    "            j += 1\n",
    "            k += 1\n",
    " \n",
    "arr = [6,4,2,1,9,8,3,5]\n",
    "mergeSort(arr)\n",
    "print(arr)\n"
   ]
  },
  {
   "cell_type": "code",
   "execution_count": 18,
   "id": "51a1f543",
   "metadata": {},
   "outputs": [
    {
     "name": "stdout",
     "output_type": "stream",
     "text": [
      "Sorted array: [1, 2, 3, 4, 5, 6, 8, 9]\n"
     ]
    }
   ],
   "source": [
    "def merge_sort(A, p, r):\n",
    "    if p < r:\n",
    "        q = (p + r) // 2\n",
    "        merge_sort(A, p, q)       \n",
    "        merge_sort(A, q + 1, r)   \n",
    "        merge(A, p, q, r)         \n",
    "\n",
    "\n",
    "def merge(A, p, q, r):\n",
    "    n1 = q - p + 1\n",
    "    n2 = r - q\n",
    "\n",
    "    \n",
    "    L = [0] * (n1 + 1)\n",
    "    R = [0] * (n2 + 1)\n",
    "\n",
    "    \n",
    "    for i in range(n1):\n",
    "        L[i] = A[p + i]\n",
    "    for j in range(n2):\n",
    "        R[j] = A[q + 1 + j]\n",
    "\n",
    "   \n",
    "    L[n1] = float('inf')\n",
    "    R[n2] = float('inf')\n",
    "\n",
    "    i = 0\n",
    "    j = 0\n",
    "\n",
    "    \n",
    "    for k in range(p, r + 1):\n",
    "        if L[i] <= R[j]:\n",
    "            A[k] = L[i]\n",
    "            i += 1\n",
    "        else:\n",
    "            A[k] = R[j]\n",
    "            j += 1\n",
    "\n",
    "\n",
    "arr = [6,4,2,1,9,8,3,5]\n",
    "merge_sort(arr, 0, len(arr) - 1)\n",
    "print(\"Sorted array:\", arr)"
   ]
  },
  {
   "cell_type": "code",
   "execution_count": 19,
   "id": "ea2ec908",
   "metadata": {},
   "outputs": [
    {
     "name": "stdout",
     "output_type": "stream",
     "text": [
      "{1, 10, 11, 12}\n"
     ]
    }
   ],
   "source": [
    "a=[1,10,11,12,11,1]\n",
    "b =[]\n",
    "for i in range(len(a)-1):\n",
    "        if a[i]!=a[i+1]:\n",
    "            b.append(a[i])\n",
    "            c = set(b)\n",
    "print(c)"
   ]
  },
  {
   "cell_type": "code",
   "execution_count": 20,
   "id": "627f721b",
   "metadata": {},
   "outputs": [
    {
     "name": "stdout",
     "output_type": "stream",
     "text": [
      "[1, 10, 11, 12, 11]\n"
     ]
    }
   ],
   "source": [
    "a = [1,10,11,12,11,1]\n",
    "b = []\n",
    "for i in range(len(a)-1):\n",
    "        if a[i]==a[i+1]:\n",
    "            continue\n",
    "        else:\n",
    "            b.append(a[i])\n",
    "print(b)\n"
   ]
  },
  {
   "cell_type": "code",
   "execution_count": 22,
   "id": "e46ade50",
   "metadata": {},
   "outputs": [
    {
     "ename": "SyntaxError",
     "evalue": "invalid syntax (306985729.py, line 16)",
     "output_type": "error",
     "traceback": [
      "\u001b[0;36m  Cell \u001b[0;32mIn[22], line 16\u001b[0;36m\u001b[0m\n\u001b[0;31m    while\u001b[0m\n\u001b[0m         ^\u001b[0m\n\u001b[0;31mSyntaxError\u001b[0m\u001b[0;31m:\u001b[0m invalid syntax\n"
     ]
    }
   ],
   "source": [
    "class cll:\n",
    "    def __init__(self,data,next=None):\n",
    "        self.head = head\n",
    "        self.next = next\n",
    "\n",
    "node1 = listnode(1)\n",
    "node2 = listnode(2)\n",
    "node3 = listnode(3)\n",
    "node4 = listnode(4)\n",
    "\n",
    "node1.next = node2\n",
    "node2.next = node3\n",
    "node3.next = node4\n",
    "node4.next = node2\n",
    "\n",
    "while"
   ]
  },
  {
   "cell_type": "code",
   "execution_count": 23,
   "id": "1fc4d481",
   "metadata": {},
   "outputs": [
    {
     "name": "stdout",
     "output_type": "stream",
     "text": [
      "Sorted array: [-7, 0, 1, 2, 3, 4, 5, 6, 8, 9]\n"
     ]
    }
   ],
   "source": [
    "# MERGE SORT\n",
    "def MSort(a):\n",
    "    if len(a) > 1:\n",
    "        mid = len(a)//2\n",
    "        s1 = a[:mid]\n",
    "        s2 = a[mid:]\n",
    "        MSort(s1)\n",
    "        MSort(s2)\n",
    "        i = j = k = 0\n",
    "        while i < len(s1) and j < len(s2):\n",
    "            if s1[i] < s2[j]:\n",
    "                a[k] = s1[i]\n",
    "                i += 1\n",
    "            else:\n",
    "                a[k] = s2[j]\n",
    "                j += 1\n",
    "            k += 1\n",
    "        while i < len(s1):\n",
    "            a[k] = s1[i]\n",
    "            i += 1\n",
    "            k += 1\n",
    "        while j < len(s2):\n",
    "            a[k] = s2[j]\n",
    "            j += 1\n",
    "            k += 1\n",
    "a = [6,4,2,1,9,8,3,0,5,-7]\n",
    "MSort(a)\n",
    "print(\"Sorted array:\",a)"
   ]
  },
  {
   "cell_type": "code",
   "execution_count": 24,
   "id": "f4ce2be9",
   "metadata": {},
   "outputs": [
    {
     "name": "stdout",
     "output_type": "stream",
     "text": [
      "12 33 43 \n",
      "11 32 42 \n",
      "10 31 41 "
     ]
    }
   ],
   "source": [
    "import numpy as np\n",
    "values = [10, 11, 12, 31, 32, 33, 41, 42, 43]\n",
    "x = np.array(values).reshape(3, 3)\n",
    "for i in range(3):\n",
    "    for j in range(3):\n",
    "        if(i<3 and j==2):\n",
    "            print(x[i][j],end=\" \")\n",
    "print(\"\")\n",
    "for i in range(3):\n",
    "    for j in range(3):\n",
    "        if(i<3 and j==1):\n",
    "            print(x[i][j],end=\" \")  \n",
    "print(\"\")\n",
    "for i in range(3):\n",
    "    for j in range(3):\n",
    "        if(i<3 and j==0):\n",
    "            print(x[i][j],end=\" \")\n"
   ]
  },
  {
   "cell_type": "code",
   "execution_count": 25,
   "id": "fd610f26",
   "metadata": {},
   "outputs": [
    {
     "name": "stdout",
     "output_type": "stream",
     "text": [
      "[[0 1 2]\n",
      " [3 4 5]\n",
      " [6 7 8]]\n",
      "\n",
      "[[2 1 0]\n",
      " [3 4 5]\n",
      " [8 7 6]]\n"
     ]
    }
   ],
   "source": [
    "import numpy as np\n",
    "values = [0,1,2,3,4,5,6,7,8]\n",
    "x = np.array(values).reshape(3, 3)\n",
    "print(x)\n",
    "print(\"\")\n",
    "for i in range(3):\n",
    "    for j in range(3):\n",
    "        x[0][0],x[0][2] = x[0][2],x[0][0] \n",
    "        x[2][0],x[2][2] = x[2][2],x[2][0]\n",
    "print(x)"
   ]
  },
  {
   "cell_type": "code",
   "execution_count": 26,
   "id": "24753554",
   "metadata": {},
   "outputs": [
    {
     "name": "stdout",
     "output_type": "stream",
     "text": [
      "[2, 1, 2, 3, 4, 5, 6, 7, 8, 9]\n"
     ]
    }
   ],
   "source": [
    "a=[2,5,6,1,3,4,10,9,8,7]\n",
    "for i in range(1,len(a)):\n",
    "    a[i]=i\n",
    "print(a)\n"
   ]
  },
  {
   "cell_type": "code",
   "execution_count": 27,
   "id": "0ed44564",
   "metadata": {},
   "outputs": [
    {
     "name": "stdout",
     "output_type": "stream",
     "text": [
      "[0, 1, 2, 3, 4, 5, 6, 7, 8, 9]\n"
     ]
    }
   ],
   "source": [
    "a=[2,3,1,0,4,5,7,6,9,8]\n",
    "for i in range(len(a)):\n",
    "    a[i]=i\n",
    "print(a)\n"
   ]
  },
  {
   "cell_type": "code",
   "execution_count": 28,
   "id": "d1a20c7a",
   "metadata": {},
   "outputs": [
    {
     "name": "stdout",
     "output_type": "stream",
     "text": [
      "[2, 3, 1, 0, 4, 5, 7, 6, 9, 8]\n"
     ]
    }
   ],
   "source": [
    "a=[2,3,1,0,4,5,7,6,9,8]\n",
    "for i in range(len(a)):\n",
    "    temp = a[i]\n",
    "    i = temp\n",
    "    i = a[i]\n",
    "print(a)"
   ]
  },
  {
   "cell_type": "code",
   "execution_count": 29,
   "id": "1afdab8d",
   "metadata": {},
   "outputs": [
    {
     "name": "stdout",
     "output_type": "stream",
     "text": [
      "[0, 1, 2, 3, 4, 5, 6, 7, 8, 9]\n"
     ]
    }
   ],
   "source": [
    "array = [2, 3, 1, 0, 4, 5, 7, 6, 9, 8]\n",
    "\n",
    "for i in range(len(array)):\n",
    "    min_index = i\n",
    "    for j in range(i + 1, len(array)):\n",
    "        if array[j] < array[min_index]:\n",
    "            min_index = j\n",
    "\n",
    "    if min_index != i:\n",
    "        array[i], array[min_index] = array[min_index], array[i]\n",
    "print(array)\n"
   ]
  },
  {
   "cell_type": "code",
   "execution_count": 30,
   "id": "e0d7bc02",
   "metadata": {},
   "outputs": [
    {
     "name": "stdout",
     "output_type": "stream",
     "text": [
      "[0, 1, 2, 3, 4, 5, 6, 7, 8, 9]\n"
     ]
    }
   ],
   "source": [
    "array = [2, 3, 1, 0, 4, 5, 7, 6, 9, 8]\n",
    "new_array = [ ]\n",
    "for i in range(len(array)):\n",
    "    min_value = min(array)\n",
    "    new_array.append(min_value)\n",
    "    array.remove(min_value)\n",
    "print(new_array)"
   ]
  },
  {
   "cell_type": "code",
   "execution_count": 31,
   "id": "d0d7fbb2",
   "metadata": {},
   "outputs": [
    {
     "name": "stdout",
     "output_type": "stream",
     "text": [
      "-10\n"
     ]
    }
   ],
   "source": [
    "def minimize_curse(teachers, D):\n",
    "    teachers.sort(key=lambda teacher: teacher[2])\n",
    "    curse_level = 0  \n",
    "    schedule = [0] * (D + 1)\n",
    "    for teacher in teachers:\n",
    "        arrival_day, required_lectures, curse_increase = teacher\n",
    "        for day in range(arrival_day, min(D, arrival_day + required_lectures)):\n",
    "            if schedule[day] < required_lectures:\n",
    "                schedule[day] += 1\n",
    "            else:\n",
    "                break\n",
    "        untaught_lectures = required_lectures - sum(schedule[arrival_day:arrival_day + required_lectures])\n",
    "        curse_level += untaught_lectures * curse_increase\n",
    "    return curse_level\n",
    "teachers = [(2, 3, 5), (1, 2, 10), (3, 1, 2)]\n",
    "D = 4\n",
    "min_curse = minimize_curse(teachers, D)\n",
    "print(min_curse)"
   ]
  },
  {
   "cell_type": "code",
   "execution_count": 32,
   "id": "8bfbd893",
   "metadata": {},
   "outputs": [
    {
     "name": "stdout",
     "output_type": "stream",
     "text": [
      "[6, 7, 8]\n"
     ]
    }
   ],
   "source": [
    "\n",
    "matrix= [6,7,8]\n",
    "print(matrix)"
   ]
  },
  {
   "cell_type": "code",
   "execution_count": 33,
   "id": "0852124c",
   "metadata": {},
   "outputs": [
    {
     "name": "stdout",
     "output_type": "stream",
     "text": [
      "3\n",
      "4\n",
      "2\n",
      "2\n"
     ]
    }
   ],
   "source": [
    "matrix = [[1, 0, 1, 1],\n",
    "          [1, 1, 1, 1],\n",
    "          [1, 0, 1, 0],\n",
    "          [1, 0, 0, 1]]\n",
    "a = len(matrix)\n",
    "for i in range(a):\n",
    "    count = 0\n",
    "    for j in range(a):\n",
    "        if(matrix[i][j] == 1):\n",
    "            count+=1\n",
    "        else:\n",
    "            continue\n",
    "    print(count)   "
   ]
  },
  {
   "cell_type": "code",
   "execution_count": 34,
   "id": "a9e56426",
   "metadata": {},
   "outputs": [
    {
     "name": "stdout",
     "output_type": "stream",
     "text": [
      "[[7 6 5]\n",
      " [1 2 3]\n",
      " [8 4 9]]\n",
      "[[1 2 3]\n",
      " [4 5 6]\n",
      " [7 8 9]]\n",
      "[[0 6 0]\n",
      " [1 0 3]\n",
      " [0 4 0]]\n"
     ]
    }
   ],
   "source": [
    "\n",
    "import numpy as py\n",
    "x = [7,6,5,1,2,3,8,4,9]\n",
    "y = np.array(x).reshape(3, 3)\n",
    "print(y)\n",
    "for i in range(len(x)):\n",
    "    min_index = i\n",
    "    for j in range(i + 1, len(x)):\n",
    "        if x[j] < x[min_index]:\n",
    "            min_index = j\n",
    "    if min_index != i:\n",
    "        x[i], x[min_index] = x[min_index], x[i]\n",
    "z = np.array(x).reshape(3, 3)\n",
    "print(z)\n",
    "for i in range(3):\n",
    "    for j in range(3):\n",
    "        if i == j:\n",
    "            y[i][j] = 0\n",
    "        elif((i==0 and j==2) or (i==2 and j==0)):\n",
    "            y[i][j] = 0\n",
    "a = np.array(y).reshape(3,3)\n",
    "print(a)"
   ]
  },
  {
   "cell_type": "code",
   "execution_count": 35,
   "id": "431e1553",
   "metadata": {},
   "outputs": [
    {
     "name": "stdout",
     "output_type": "stream",
     "text": [
      "Enter your first number: 3\n",
      "Enter your second number: 4\n",
      "12\n"
     ]
    }
   ],
   "source": [
    "\n",
    "a = int(input(\"Enter your first number: \"))\n",
    "b = int(input(\"Enter your second number: \"))\n",
    "i=0\n",
    "c=0\n",
    "while i<b:\n",
    "    c+=a\n",
    "    i+=1\n",
    "print(c)"
   ]
  },
  {
   "cell_type": "code",
   "execution_count": 36,
   "id": "639694b6",
   "metadata": {},
   "outputs": [
    {
     "name": "stdout",
     "output_type": "stream",
     "text": [
      "Enter the elements to search for: 3\n",
      "Not found\n"
     ]
    }
   ],
   "source": [
    "class Node:\n",
    "    def __init__ (self,value):\n",
    "        self.value = value\n",
    "        self.left = None\n",
    "        self.right = None\n",
    "def search_bst(root,ele):\n",
    "    if root is None:\n",
    "        return False\n",
    "    if root.value == ele:\n",
    "        return True\n",
    "    if ele < root.value:\n",
    "        return search_bst(root.left, ele)\n",
    "    else:\n",
    "        return search_bst(root.right, ele)\n",
    "root = Node(10)\n",
    "root.left = Node(8)\n",
    "root.right = Node(20)\n",
    "root.left.left = Node(7)\n",
    "root.left.right = Node(9)\n",
    "root.right.left = Node(15)\n",
    "root.right.right = Node(21)\n",
    "ele = int(input(\"Enter the elements to search for: \"))\n",
    "found = search_bst(root,ele)\n",
    "if found:\n",
    "    print(\"Found\".format(ele))\n",
    "else:\n",
    "    print(\"Not found\". format(ele))"
   ]
  },
  {
   "cell_type": "code",
   "execution_count": 37,
   "id": "2e583721",
   "metadata": {},
   "outputs": [
    {
     "name": "stdout",
     "output_type": "stream",
     "text": [
      "The sum of all leaf nodes is  52\n"
     ]
    }
   ],
   "source": [
    "class Node:\n",
    "    def __init__ (self,value):\n",
    "        self.value = value\n",
    "        self.left = None\n",
    "        self.right = None\n",
    "def sumofleafnodes(root):\n",
    "    if root is None:\n",
    "        return 0\n",
    "    elif root.left is None and root.right is None:\n",
    "        return root.value\n",
    "    return sumofleafnodes(root.left) + sumofleafnodes(root.right)\n",
    "root = Node(10)\n",
    "root.left = Node(8)\n",
    "root.right = Node(20)\n",
    "root.left.left = Node(7)\n",
    "root.left.right = Node(9)\n",
    "root.right.left = Node(15)\n",
    "root.right.right = Node(21)\n",
    "sum = sumofleafnodes(root)\n",
    "print(\"The sum of all leaf nodes is \",format(sum))\n"
   ]
  },
  {
   "cell_type": "code",
   "execution_count": 38,
   "id": "56143a50",
   "metadata": {},
   "outputs": [
    {
     "name": "stdout",
     "output_type": "stream",
     "text": [
      "Spiral Order traversal of the BST:\n",
      "1 3 2 4 5 6 7 15 14 13 12 11 10 9 8 "
     ]
    }
   ],
   "source": [
    "class Node:\n",
    "    def __init__(self, key):\n",
    "        self.data = key\n",
    "        self.left = None\n",
    "        self.right = None\n",
    "def printSpiral(root):\n",
    "    if root is None:\n",
    "        return\n",
    "    stack1 = []  \n",
    "    stack2 = []  \n",
    "    stack1.append(root)  # Start with the root node\n",
    "    while stack1 or stack2:\n",
    "        while stack1:\n",
    "            node = stack1.pop()\n",
    "            print(node.data, end=\" \")\n",
    "\n",
    "            if node.left:\n",
    "                stack2.append(node.left)\n",
    "            if node.right:\n",
    "                stack2.append(node.right)\n",
    "        while stack2:\n",
    "            node = stack2.pop()\n",
    "            print(node.data, end=\" \")\n",
    "            if node.right:\n",
    "                stack1.append(node.right)\n",
    "            if node.left:\n",
    "                stack1.append(node.left)\n",
    "root = Node(1)\n",
    "root.left = Node(2)\n",
    "root.right = Node(3)\n",
    "root.left.left = Node(4)\n",
    "root.left.right = Node(5)\n",
    "root.right.left = Node(6)\n",
    "root.right.right = Node(7)\n",
    "root.left.left.left = Node(8)\n",
    "root.left.left.right = Node(9)\n",
    "root.left.right.left = Node(10)\n",
    "root.left.right.right = Node(11)\n",
    "root.right.left.left = Node(12)\n",
    "root.right.left.right = Node(13)\n",
    "root.right.right.left = Node(14)\n",
    "root.right.right.right = Node(15)\n",
    "print(\"Spiral Order traversal of the BST:\")\n",
    "printSpiral(root)\n"
   ]
  },
  {
   "cell_type": "code",
   "execution_count": null,
   "id": "9c20b48b",
   "metadata": {},
   "outputs": [],
   "source": [
    "N, D = map(int, input().split())\n",
    "teachers = []\n",
    "for _ in range(N):\n",
    "    teachers.append(list(map(int, input().split())))\n"
   ]
  },
  {
   "cell_type": "code",
   "execution_count": null,
   "id": "9b1181cb",
   "metadata": {},
   "outputs": [],
   "source": [
    "# Sorting the teachers based on their arrival day\n",
    "teachers.sort(key=lambda x: x[0])\n",
    "\n",
    "curse_level = 0\n",
    "lectures_scheduled = 0\n",
    "\n",
    "for teacher in teachers:\n",
    "    if D <= teacher[0]:\n",
    "        break\n",
    "\n",
    "    possible_lectures = min(D - teacher[0] + 1, teacher[1] - lectures_scheduled)\n",
    "    curse_level += teacher[2] * (teacher[1] - possible_lectures - lectures_scheduled)\n",
    "    lectures_scheduled += possible_lectures\n",
    "\n",
    "print(curse_level)\n"
   ]
  },
  {
   "cell_type": "code",
   "execution_count": null,
   "id": "d7bcef57",
   "metadata": {},
   "outputs": [],
   "source": [
    "import heapq\n",
    "\n",
    "def dijkstra(graph, start, end, unsafe):\n",
    "    n = len(graph)\n",
    "    distances = [float('inf')] * n\n",
    "    distances[start] = 0\n",
    "    heap = [(0, start)]\n",
    "\n",
    "    while heap:\n",
    "        (dist, current) = heapq.heappop(heap)\n",
    "\n",
    "        if current == end:\n",
    "            return distances[end]\n",
    "\n",
    "        for neighbor, weight in graph[current]:\n",
    "            if dist + weight < distances[neighbor] and not (unsafe[neighbor] <= dist + weight < unsafe[neighbor] + 5):\n",
    "                distances[neighbor] = dist + weight\n",
    "                heapq.heappush(heap, (distances[neighbor], neighbor))\n",
    "\n",
    "    return distances[end]\n",
    "\n",
    "# Input parsing\n",
    "n, m = map(int, input().split())\n",
    "graph = [[] for _ in range(n)]\n",
    "unsafe = [0] * n\n",
    "\n",
    "for _ in range(m):\n",
    "    u, v, t = map(int, input().split())\n",
    "    graph[u - 1].append((v - 1, t))\n",
    "    graph[v - 1].append((u - 1, t))\n",
    "    unsafe[u - 1] = t\n",
    "    unsafe[v - 1] = t\n"
   ]
  },
  {
   "cell_type": "code",
   "execution_count": null,
   "id": "16df7343",
   "metadata": {},
   "outputs": [],
   "source": [
    "n, d = map(int, input().split())\n",
    "teachers = []\n",
    "for _ in range(n):\n",
    "    di, ti, si = map(int, input().split())\n",
    "    teachers.append((si, di, ti))\n",
    "teachers.sort(reverse=True)\n",
    "schedule = [0] * d\n",
    "for si, di, ti in teachers:\n",
    "    for i in range(di, d):\n",
    "        if not schedule[i]:\n",
    "            schedule[i] = si\n",
    "            break\n",
    "print(sum(schedule))"
   ]
  },
  {
   "cell_type": "code",
   "execution_count": null,
   "id": "ebb12555",
   "metadata": {},
   "outputs": [],
   "source": [
    "N, D = list(map(int, input().split()))\n",
    "teachers = []\n",
    "for i in range(N):\n",
    "    arrival_day, lectures, curse_level = list(map(int, input().split()))\n",
    "    teachers.append([arrival_day, lectures, curse_level])\n",
    "def bubble_sort(arr):\n",
    "    for i in range(len(arr) - 1):\n",
    "        for j in range(len(arr) - 1):\n",
    "            if arr[j][2] < arr[j + 1][2]:\n",
    "                arr[j], arr[j + 1] = arr[j + 1], arr[j]\n",
    "    return arr\n",
    "def evaluate(teachers):\n",
    "    total_curse = 0\n",
    "    lecture_schedule = [[-1, -1, -1], [-1, -1, -1]]\n",
    "    for day in range(1, D + 1):\n",
    "        for teacher in teachers:\n",
    "            if teacher[0] == day:\n",
    "                lecture_schedule.append(teacher)\n",
    "        bubble_sort(lecture_schedule)\n",
    "        lecture_schedule[0][1] -= 1\n",
    "        lecture_schedule += [[1, 0, 0] for _ in range(len(lecture_schedule))]\n",
    "        lecture_schedule = [teacher for teacher in lecture_schedule if teacher[1] > 0]\n",
    "    for teacher in lecture_schedule:\n",
    "        if teacher[1] > 0:\n",
    "            total_curse += teacher[2] * teacher[1]\n",
    "    print(total_curse)\n",
    "evaluate(teachers)"
   ]
  },
  {
   "cell_type": "code",
   "execution_count": null,
   "id": "70602f38",
   "metadata": {},
   "outputs": [],
   "source": []
  }
 ],
 "metadata": {
  "kernelspec": {
   "display_name": "Python 3 (ipykernel)",
   "language": "python",
   "name": "python3"
  },
  "language_info": {
   "codemirror_mode": {
    "name": "ipython",
    "version": 3
   },
   "file_extension": ".py",
   "mimetype": "text/x-python",
   "name": "python",
   "nbconvert_exporter": "python",
   "pygments_lexer": "ipython3",
   "version": "3.11.5"
  }
 },
 "nbformat": 4,
 "nbformat_minor": 5
}
